{
 "cells": [
  {
   "cell_type": "code",
   "execution_count": 3,
   "metadata": {},
   "outputs": [
    {
     "name": "stderr",
     "output_type": "stream",
     "text": [
      "\n",
      "Attaching package: ‘dplyr’\n",
      "\n",
      "The following objects are masked from ‘package:stats’:\n",
      "\n",
      "    filter, lag\n",
      "\n",
      "The following objects are masked from ‘package:base’:\n",
      "\n",
      "    intersect, setdiff, setequal, union\n",
      "\n",
      "Loading required package: Matrix\n",
      "Warning message:\n",
      "“package ‘knitr’ was built under R version 3.4.3”Warning message:\n",
      "“package ‘lmerTest’ was built under R version 3.4.3”\n",
      "Attaching package: ‘lmerTest’\n",
      "\n",
      "The following object is masked from ‘package:lme4’:\n",
      "\n",
      "    lmer\n",
      "\n",
      "The following object is masked from ‘package:stats’:\n",
      "\n",
      "    step\n",
      "\n"
     ]
    }
   ],
   "source": [
    "library(ggplot2)\n",
    "library(reshape2)\n",
    "library(dplyr)\n",
    "library(ez)\n",
    "library(lme4)\n",
    "library(knitr)\n",
    "library(lmerTest)\n",
    "library(ggplot2)\n",
    "library(ggthemes)\n",
    "library(scales)"
   ]
  },
  {
   "cell_type": "code",
   "execution_count": 8,
   "metadata": {},
   "outputs": [],
   "source": [
    "e1_fileName=\"data/Experiment1_80childrenUntrimmed21-Feb-2018.csv\" #\n"
   ]
  },
  {
   "cell_type": "code",
   "execution_count": 12,
   "metadata": {},
   "outputs": [],
   "source": [
    "setwd('/Users/brialong/Documents/GitHub/kidstroop')"
   ]
  },
  {
   "cell_type": "code",
   "execution_count": 13,
   "metadata": {},
   "outputs": [],
   "source": [
    "errorSubs <- read.csv(e1_fileName) %>%\n",
    "  mutate(Subject = factor(id), Congruency = factor(condition))  %>%\n",
    "  filter(trial>10)  %>%\n",
    "  group_by(Subject) %>%\n",
    "  summarize(countTrials = length(RT)) %>%\n",
    "  summarize(avgTrials = mean(countTrials), minTrials=min(countTrials), maxTrials=max(countTrials))"
   ]
  },
  {
   "cell_type": "code",
   "execution_count": 14,
   "metadata": {},
   "outputs": [
    {
     "data": {
      "text/html": [
       "<table>\n",
       "<thead><tr><th scope=col>avgTrials</th><th scope=col>minTrials</th><th scope=col>maxTrials</th></tr></thead>\n",
       "<tbody>\n",
       "\t<tr><td>51.67089</td><td>4       </td><td>70      </td></tr>\n",
       "</tbody>\n",
       "</table>\n"
      ],
      "text/latex": [
       "\\begin{tabular}{r|lll}\n",
       " avgTrials & minTrials & maxTrials\\\\\n",
       "\\hline\n",
       "\t 51.67089 & 4        & 70      \\\\\n",
       "\\end{tabular}\n"
      ],
      "text/markdown": [
       "\n",
       "avgTrials | minTrials | maxTrials | \n",
       "|---|\n",
       "| 51.67089 | 4        | 70       | \n",
       "\n",
       "\n"
      ],
      "text/plain": [
       "  avgTrials minTrials maxTrials\n",
       "1 51.67089  4         70       "
      ]
     },
     "metadata": {},
     "output_type": "display_data"
    }
   ],
   "source": [
    "errorSubs"
   ]
  },
  {
   "cell_type": "code",
   "execution_count": null,
   "metadata": {},
   "outputs": [],
   "source": []
  }
 ],
 "metadata": {
  "kernelspec": {
   "display_name": "R",
   "language": "R",
   "name": "ir"
  },
  "language_info": {
   "codemirror_mode": "r",
   "file_extension": ".r",
   "mimetype": "text/x-r-source",
   "name": "R",
   "pygments_lexer": "r",
   "version": "3.4.2"
  }
 },
 "nbformat": 4,
 "nbformat_minor": 2
}
